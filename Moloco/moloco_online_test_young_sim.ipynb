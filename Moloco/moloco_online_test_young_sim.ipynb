{
 "cells": [
  {
   "cell_type": "markdown",
   "metadata": {},
   "source": [
    "# Moloco Online Test\n",
    "This document contains solutions to the online test. Breif explanations are added for each problem as requested."
   ]
  },
  {
   "cell_type": "markdown",
   "metadata": {},
   "source": [
    "### 0) Import modules and data"
   ]
  },
  {
   "cell_type": "code",
   "execution_count": 1,
   "metadata": {},
   "outputs": [],
   "source": [
    "import pandas as pd\n",
    "import numpy as np\n",
    "import matplotlib.pyplot as plt\n",
    "%matplotlib inline"
   ]
  },
  {
   "cell_type": "code",
   "execution_count": 2,
   "metadata": {},
   "outputs": [],
   "source": [
    "df = pd.read_csv('Adops & Data Scientist Sample Data - Q1 Analytics.csv', header=0, parse_dates = ['ts'])"
   ]
  },
  {
   "cell_type": "code",
   "execution_count": 3,
   "metadata": {},
   "outputs": [
    {
     "data": {
      "text/html": [
       "<div>\n",
       "<style scoped>\n",
       "    .dataframe tbody tr th:only-of-type {\n",
       "        vertical-align: middle;\n",
       "    }\n",
       "\n",
       "    .dataframe tbody tr th {\n",
       "        vertical-align: top;\n",
       "    }\n",
       "\n",
       "    .dataframe thead th {\n",
       "        text-align: right;\n",
       "    }\n",
       "</style>\n",
       "<table border=\"1\" class=\"dataframe\">\n",
       "  <thead>\n",
       "    <tr style=\"text-align: right;\">\n",
       "      <th></th>\n",
       "      <th>ts</th>\n",
       "      <th>user_id</th>\n",
       "      <th>country_id</th>\n",
       "      <th>site_id</th>\n",
       "    </tr>\n",
       "  </thead>\n",
       "  <tbody>\n",
       "    <tr>\n",
       "      <th>0</th>\n",
       "      <td>2019-02-01 00:01:24</td>\n",
       "      <td>LC36FC</td>\n",
       "      <td>TL6</td>\n",
       "      <td>N0OTG</td>\n",
       "    </tr>\n",
       "    <tr>\n",
       "      <th>1</th>\n",
       "      <td>2019-02-01 00:10:19</td>\n",
       "      <td>LC39B6</td>\n",
       "      <td>TL6</td>\n",
       "      <td>N0OTG</td>\n",
       "    </tr>\n",
       "    <tr>\n",
       "      <th>2</th>\n",
       "      <td>2019-02-01 00:21:50</td>\n",
       "      <td>LC3500</td>\n",
       "      <td>TL6</td>\n",
       "      <td>N0OTG</td>\n",
       "    </tr>\n",
       "    <tr>\n",
       "      <th>3</th>\n",
       "      <td>2019-02-01 00:22:50</td>\n",
       "      <td>LC374F</td>\n",
       "      <td>TL6</td>\n",
       "      <td>N0OTG</td>\n",
       "    </tr>\n",
       "    <tr>\n",
       "      <th>4</th>\n",
       "      <td>2019-02-01 00:23:44</td>\n",
       "      <td>LCC1C3</td>\n",
       "      <td>TL6</td>\n",
       "      <td>QGO3G</td>\n",
       "    </tr>\n",
       "  </tbody>\n",
       "</table>\n",
       "</div>"
      ],
      "text/plain": [
       "                   ts user_id country_id site_id\n",
       "0 2019-02-01 00:01:24  LC36FC        TL6   N0OTG\n",
       "1 2019-02-01 00:10:19  LC39B6        TL6   N0OTG\n",
       "2 2019-02-01 00:21:50  LC3500        TL6   N0OTG\n",
       "3 2019-02-01 00:22:50  LC374F        TL6   N0OTG\n",
       "4 2019-02-01 00:23:44  LCC1C3        TL6   QGO3G"
      ]
     },
     "execution_count": 3,
     "metadata": {},
     "output_type": "execute_result"
    }
   ],
   "source": [
    "df.head()"
   ]
  },
  {
   "cell_type": "code",
   "execution_count": 4,
   "metadata": {},
   "outputs": [],
   "source": [
    "df = df.sort_values('ts').reset_index(drop=True) # make sure the data is sorted by timestamp"
   ]
  },
  {
   "cell_type": "markdown",
   "metadata": {},
   "source": [
    "### 1) Consider only the rows with country_id = \"BDV\" (there are 844 such rows). For each site_id, we can compute the number of unique user_id's found in these 844 rows. Which site_id has the largest number of unique users? And what's the number?\n",
    "\n",
    "1. Filter out the data leaving only data points with country_id = \"BDV\".\n",
    "2. Group by site_id.\n",
    "3. Count number of unique user_id's for each site.\n",
    "4. Sort."
   ]
  },
  {
   "cell_type": "code",
   "execution_count": 5,
   "metadata": {},
   "outputs": [
    {
     "data": {
      "text/plain": [
       "site_id\n",
       "3POLC      2\n",
       "N0OTG     90\n",
       "5NPAU    544\n",
       "Name: user_id, dtype: int64"
      ]
     },
     "execution_count": 5,
     "metadata": {},
     "output_type": "execute_result"
    }
   ],
   "source": [
    "df1 = df[df['country_id']=='BDV']\n",
    "df1_by_site = df1.groupby('site_id')\n",
    "site_by_user = df1_by_site['user_id'].nunique().sort_values()\n",
    "site_by_user"
   ]
  },
  {
   "cell_type": "code",
   "execution_count": 6,
   "metadata": {},
   "outputs": [
    {
     "name": "stdout",
     "output_type": "stream",
     "text": [
      "5NPAU has the larget number of unique users. The number is 544.\n"
     ]
    }
   ],
   "source": [
    "ans1_site = site_by_user.index[-1]\n",
    "ans1_num = site_by_user[-1]\n",
    "print('{} has the larget number of unique users. The number is {}.'.format(ans1_site, ans1_num))"
   ]
  },
  {
   "cell_type": "markdown",
   "metadata": {},
   "source": [
    "### 2) Between 2019-02-03 00:00:00 and 2019-02-04 23:59:59, there are four users who visited a certain site more than 10 times. Find these four users & which sites they (each) visited more than 10 times. (Simply provides four triples in the form (user_id, site_id, number of visits) in the box below.)\n",
    "1. Filter out the data only leaving data points with timestamp between 2019-02-03 00:00:00 and 2019-02-04 23:59:59.\n",
    "2. Group by user_id and site_id (visits grouped by site for each user).\n",
    "3. Count how many times each user visited each site.\n",
    "4. Select data points with more than 10 visits."
   ]
  },
  {
   "cell_type": "code",
   "execution_count": 7,
   "metadata": {},
   "outputs": [],
   "source": [
    "df2 = df[('2019-02-03 00:00:00' < df['ts']) & (df['ts']< '2019-02-04 23:59:59')]\n",
    "df2_by_user_site = df2.groupby(['user_id','site_id'])['site_id'].count()"
   ]
  },
  {
   "cell_type": "code",
   "execution_count": 8,
   "metadata": {},
   "outputs": [
    {
     "data": {
      "text/plain": [
       "user_id  site_id\n",
       "LC06C3   N0OTG      25\n",
       "LC3A59   N0OTG      26\n",
       "LC3C7E   3POLC      15\n",
       "LC3C9D   N0OTG      17\n",
       "Name: site_id, dtype: int64"
      ]
     },
     "execution_count": 8,
     "metadata": {},
     "output_type": "execute_result"
    }
   ],
   "source": [
    "ans2 = df2_by_user_site[df2_by_user_site > 10]\n",
    "ans2"
   ]
  },
  {
   "cell_type": "markdown",
   "metadata": {},
   "source": [
    "### 3) For each site, compute the unique number of users whose last visit (found in the original data set) was to that site. For instance, user \"LC3561\"'s last visit is to \"N0OTG\" based on timestamp data. Based on this measure, what are top three sites? (hint: site \"3POLC\" is ranked at 5th with 28 users whose last visit in the data set was to 3POLC; simply provide three pairs in the form (site_id, number of users).)\n",
    "1. Drop duplicates leaving only the last visit for each user.\n",
    "2. Group by site_id and count number of unique users for each site (both nunique and count can be used here, since duplicates have been dropped in the previous step).\n",
    "3. Sort values in descending order.\n",
    "4. Take top three."
   ]
  },
  {
   "cell_type": "code",
   "execution_count": 9,
   "metadata": {},
   "outputs": [],
   "source": [
    "df3 = df.drop_duplicates(subset = ['user_id'], keep='last')"
   ]
  },
  {
   "cell_type": "code",
   "execution_count": 10,
   "metadata": {},
   "outputs": [
    {
     "data": {
      "text/plain": [
       "site_id\n",
       "5NPAU    992\n",
       "N0OTG    561\n",
       "QGO3G    289\n",
       "Name: user_id, dtype: int64"
      ]
     },
     "execution_count": 10,
     "metadata": {},
     "output_type": "execute_result"
    }
   ],
   "source": [
    "ans3 = df3.groupby('site_id')['user_id'].count().sort_values(ascending = False)[:3]\n",
    "ans3"
   ]
  },
  {
   "cell_type": "code",
   "execution_count": 11,
   "metadata": {},
   "outputs": [
    {
     "name": "stdout",
     "output_type": "stream",
     "text": [
      "Top three sites based on unique number of users with last visit to the site are: 5NPAU, N0OTG, QGO3G\n"
     ]
    }
   ],
   "source": [
    "print('Top three sites based on unique number of users with last visit to the site are: ' + ', '.join(ans3.index))"
   ]
  },
  {
   "cell_type": "markdown",
   "metadata": {},
   "source": [
    "### 4) For each user, determine the first site he/she visited and the last site he/she visited based on the timestamp data. Compute the number of users whose first/last visits are to the same website. What is the number?\n",
    "1. Create two DataFrames each containing first and last visit by each user.\n",
    "2. For comparison, sort both DataFrames by user_id and set user_id as index.\n",
    "3. Compare and count the number of users with first and last visits to the same site."
   ]
  },
  {
   "cell_type": "code",
   "execution_count": 12,
   "metadata": {},
   "outputs": [],
   "source": [
    "df4_first = df.drop_duplicates(subset = ['user_id'], keep = 'first').sort_values('user_id')\n",
    "df4_last = df.drop_duplicates(subset = ['user_id'], keep = 'last').sort_values('user_id')"
   ]
  },
  {
   "cell_type": "code",
   "execution_count": 13,
   "metadata": {},
   "outputs": [],
   "source": [
    "ans4 = sum(df4_first.set_index('user_id')['site_id'] == df4_last.set_index('user_id')['site_id'])"
   ]
  },
  {
   "cell_type": "code",
   "execution_count": 14,
   "metadata": {},
   "outputs": [
    {
     "name": "stdout",
     "output_type": "stream",
     "text": [
      "The number of users whose first/last visits are to the same website is 1670.\n"
     ]
    }
   ],
   "source": [
    "print('The number of users whose first/last visits are to the same website is {}.'.format(ans4))"
   ]
  }
 ],
 "metadata": {
  "kernelspec": {
   "display_name": "Python 3",
   "language": "python",
   "name": "python3"
  },
  "language_info": {
   "codemirror_mode": {
    "name": "ipython",
    "version": 3
   },
   "file_extension": ".py",
   "mimetype": "text/x-python",
   "name": "python",
   "nbconvert_exporter": "python",
   "pygments_lexer": "ipython3",
   "version": "3.7.3"
  }
 },
 "nbformat": 4,
 "nbformat_minor": 2
}
